{
 "cells": [
  {
   "cell_type": "code",
   "execution_count": 76,
   "metadata": {},
   "outputs": [],
   "source": [
    "import json\n",
    "import pandas as pd\n",
    "import numpy as np\n",
    "\n",
    "#opens json file\n",
    "with open('ultimate_data_challenge.json') as f:\n",
    "    json_file = json.load(f)\n",
    "\n",
    "#turns json file to DataFrame\n",
    "df = pd.DataFrame(json_file)"
   ]
  },
  {
   "cell_type": "code",
   "execution_count": 77,
   "metadata": {},
   "outputs": [
    {
     "name": "stdout",
     "output_type": "stream",
     "text": [
      "<class 'pandas.core.frame.DataFrame'>\n",
      "RangeIndex: 50000 entries, 0 to 49999\n",
      "Data columns (total 13 columns):\n",
      "city                      50000 non-null category\n",
      "trips_in_first_30_days    50000 non-null float64\n",
      "signup_date               50000 non-null datetime64[ns]\n",
      "avg_rating_of_driver      41878 non-null float64\n",
      "avg_surge                 50000 non-null float64\n",
      "last_trip_date            50000 non-null datetime64[ns]\n",
      "phone                     49604 non-null category\n",
      "surge_pct                 50000 non-null float64\n",
      "ultimate_black_user       50000 non-null float64\n",
      "weekday_pct               50000 non-null float64\n",
      "avg_dist                  50000 non-null float64\n",
      "avg_rating_by_driver      49799 non-null float64\n",
      "retained                  50000 non-null float64\n",
      "dtypes: category(2), datetime64[ns](2), float64(9)\n",
      "memory usage: 4.3 MB\n"
     ]
    }
   ],
   "source": [
    "#Creates Target Col for retension, as defined by the question\n",
    "df['retained'] = df.trips_in_first_30_days.astype(bool).astype(np.float64)\n",
    "\n",
    "#Convert Dtype of columns to be prep'd for machine learning\n",
    "df['city'] = df.city.astype('category')\n",
    "df['phone'] = df.phone.astype('category')\n",
    "df['signup_date'] = pd.to_datetime(df.signup_date)\n",
    "df['last_trip_date'] = pd.to_datetime(df.last_trip_date)\n",
    "df['ultimate_black_user'] = df.ultimate_black_user.astype(np.float64)\n",
    "df['trips_in_first_30_days'] = df.trips_in_first_30_days.astype(bool).astype(np.float64)\n",
    "\n",
    "df.info()"
   ]
  },
  {
   "cell_type": "markdown",
   "metadata": {},
   "source": [
    "Looking at the cell above, the dtype for many columns was transfromed to be prepared for machine learning.\n",
    "There are three columns that have some missing values. Since 'phone' is a categorical with only 2 categoies, it seems reasonable to created a new 'Unknown' category. As for the numberic columns, a quick histogram will decide how to impute values."
   ]
  },
  {
   "cell_type": "code",
   "execution_count": 78,
   "metadata": {},
   "outputs": [
    {
     "data": {
      "text/plain": [
       "iPhone     34582\n",
       "Android    15022\n",
       "Unknown      396\n",
       "Name: phone, dtype: int64"
      ]
     },
     "execution_count": 78,
     "metadata": {},
     "output_type": "execute_result"
    }
   ],
   "source": [
    "df.phone.cat.add_categories(new_categories = 'Unknown', inplace=True)\n",
    "df.phone.fillna('Unknown', inplace=True)\n",
    "df.phone.value_counts()"
   ]
  },
  {
   "cell_type": "code",
   "execution_count": 91,
   "metadata": {},
   "outputs": [
    {
     "data": {
      "image/png": "[encoded data removed]",
      "text/plain": [
       "<Figure size 432x216 with 1 Axes>"
      ]
     },
     "metadata": {
      "needs_background": "light"
     },
     "output_type": "display_data"
    },
    {
     "data": {
      "image/png": "[encoded data removed]",
      "text/plain": [
       "<Figure size 432x216 with 1 Axes>"
      ]
     },
     "metadata": {
      "needs_background": "light"
     },
     "output_type": "display_data"
    }
   ],
   "source": [
    "%matplotlib inline\n",
    "import matplotlib.pyplot as plt\n",
    "\n",
    "plt.figure(figsize=(6,3))\n",
    "plt.hist(df.avg_rating_of_driver, 20)\n",
    "plt.title('Count of Avg Score Given by rider')\n",
    "plt.xlabel('Rating')\n",
    "plt.ylabel('Frequency')\n",
    "plt.show()\n",
    "\n",
    "plt.figure(figsize=(6,3))\n",
    "plt.hist(df.avg_rating_by_driver, 20)\n",
    "plt.title('Count of Avg Score Recieved by rider')\n",
    "plt.xlabel('Rating')\n",
    "plt.ylabel('Frequency')\n",
    "plt.show()"
   ]
  },
  {
   "cell_type": "markdown",
   "metadata": {},
   "source": [
    "After plotting these historgram, it is clear that the distribution of ratings is strongly skewed left, and thus it would be better to impute the median value, rather than the mean value."
   ]
  },
  {
   "cell_type": "code",
   "execution_count": 95,
   "metadata": {},
   "outputs": [
    {
     "name": "stdout",
     "output_type": "stream",
     "text": [
      "Imputed values: \n",
      "avg_rating_of_driver:  4.9\n",
      "avg_rating_by_driver:  5.0\n"
     ]
    }
   ],
   "source": [
    "#Print Medians used for imputation\n",
    "print('Imputed values: ')\n",
    "print('avg_rating_of_driver: ', df.avg_rating_of_driver.median())\n",
    "print('avg_rating_by_driver: ', df.avg_rating_by_driver.median())\n",
    "\n",
    "#Impute values\n",
    "df['avg_rating_of_driver'] = df.avg_rating_of_driver.fillna(df.avg_rating_of_driver.median())\n",
    "df['avg_rating_by_driver'] = df.avg_rating_by_driver.fillna(df.avg_rating_by_driver.median())"
   ]
  },
  {
   "cell_type": "code",
   "execution_count": 96,
   "metadata": {},
   "outputs": [
    {
     "name": "stdout",
     "output_type": "stream",
     "text": [
      "<class 'pandas.core.frame.DataFrame'>\n",
      "RangeIndex: 50000 entries, 0 to 49999\n",
      "Data columns (total 13 columns):\n",
      "city                      50000 non-null category\n",
      "trips_in_first_30_days    50000 non-null float64\n",
      "signup_date               50000 non-null datetime64[ns]\n",
      "avg_rating_of_driver      50000 non-null float64\n",
      "avg_surge                 50000 non-null float64\n",
      "last_trip_date            50000 non-null datetime64[ns]\n",
      "phone                     50000 non-null category\n",
      "surge_pct                 50000 non-null float64\n",
      "ultimate_black_user       50000 non-null float64\n",
      "weekday_pct               50000 non-null float64\n",
      "avg_dist                  50000 non-null float64\n",
      "avg_rating_by_driver      50000 non-null float64\n",
      "retained                  50000 non-null float64\n",
      "dtypes: category(2), datetime64[ns](2), float64(9)\n",
      "memory usage: 4.3 MB\n"
     ]
    }
   ],
   "source": [
    "df.info()"
   ]
  },
  {
   "cell_type": "code",
   "execution_count": null,
   "metadata": {},
   "outputs": [],
   "source": []
  }
 ],
 "metadata": {
  "kernelspec": {
   "display_name": "Python 3",
   "language": "python",
   "name": "python3"
  },
  "language_info": {
   "codemirror_mode": {
    "name": "ipython",
    "version": 3
   },
   "file_extension": ".py",
   "mimetype": "text/x-python",
   "name": "python",
   "nbconvert_exporter": "python",
   "pygments_lexer": "ipython3",
   "version": "3.7.4"
  }
 },
 "nbformat": 4,
 "nbformat_minor": 2
}
