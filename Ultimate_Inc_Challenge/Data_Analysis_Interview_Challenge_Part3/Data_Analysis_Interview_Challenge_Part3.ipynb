{
 "cells": [
  {
   "cell_type": "code",
   "execution_count": 14,
   "metadata": {},
   "outputs": [],
   "source": [
    "import json\n",
    "import pandas as pd\n",
    "import numpy as np\n",
    "\n",
    "#opens json file\n",
    "with open('ultimate_data_challenge.json') as f:\n",
    "    json_file = json.load(f)\n",
    "\n",
    "#turns json file to DataFrame\n",
    "df = pd.DataFrame(json_file)"
   ]
  },
  {
   "cell_type": "code",
   "execution_count": 15,
   "metadata": {},
   "outputs": [
    {
     "name": "stdout",
     "output_type": "stream",
     "text": [
      "<class 'pandas.core.frame.DataFrame'>\n",
      "RangeIndex: 50000 entries, 0 to 49999\n",
      "Data columns (total 13 columns):\n",
      "city                      50000 non-null category\n",
      "trips_in_first_30_days    50000 non-null int64\n",
      "signup_date               50000 non-null datetime64[ns]\n",
      "avg_rating_of_driver      41878 non-null float64\n",
      "avg_surge                 50000 non-null float64\n",
      "last_trip_date            50000 non-null datetime64[ns]\n",
      "phone                     49604 non-null category\n",
      "surge_pct                 50000 non-null float64\n",
      "ultimate_black_user       50000 non-null float64\n",
      "weekday_pct               50000 non-null float64\n",
      "avg_dist                  50000 non-null float64\n",
      "avg_rating_by_driver      49799 non-null float64\n",
      "retained                  50000 non-null float64\n",
      "dtypes: category(2), datetime64[ns](2), float64(8), int64(1)\n",
      "memory usage: 4.3 MB\n"
     ]
    }
   ],
   "source": [
    "#Creates Target Col for retension, as defined by the question\n",
    "df['retained'] = df.trips_in_first_30_days.astype(bool).astype(np.float64)\n",
    "\n",
    "#Convert Dtype of columns to be prep'd for machine learning\n",
    "df['city'] = df.city.astype('category')\n",
    "df['phone'] = df.phone.astype('category')\n",
    "df['signup_date'] = pd.to_datetime(df.signup_date)\n",
    "df['last_trip_date'] = pd.to_datetime(df.last_trip_date)\n",
    "df['ultimate_black_user'] = df.ultimate_black_user.astype(np.float64)\n",
    "\n",
    "df.info()"
   ]
  },
  {
   "cell_type": "markdown",
   "metadata": {},
   "source": [
    "Looking at the cell above, the dtype for many columns was transfromed to be prepared for machine learning.\n",
    "There are three columns that have some missing values. Since 'phone' is a categorical with only 2 categoies, it seems reasonable to created a new 'Unknown' category. As for the numberic columns, a quick histogram will decide how to impute values."
   ]
  },
  {
   "cell_type": "code",
   "execution_count": 16,
   "metadata": {},
   "outputs": [
    {
     "data": {
      "text/plain": [
       "iPhone     34582\n",
       "Android    15022\n",
       "Unknown      396\n",
       "Name: phone, dtype: int64"
      ]
     },
     "execution_count": 16,
     "metadata": {},
     "output_type": "execute_result"
    }
   ],
   "source": [
    "df.phone.cat.add_categories(new_categories = 'Unknown', inplace=True)\n",
    "df.phone.fillna('Unknown', inplace=True)\n",
    "df.phone.value_counts()"
   ]
  },
  {
   "cell_type": "code",
   "execution_count": 17,
   "metadata": {},
   "outputs": [
    {
     "name": "stderr",
     "output_type": "stream",
     "text": [
      "C:\\ProgramData\\Anaconda3\\lib\\site-packages\\numpy\\lib\\histograms.py:824: RuntimeWarning: invalid value encountered in greater_equal\n",
      "  keep = (tmp_a >= first_edge)\n",
      "C:\\ProgramData\\Anaconda3\\lib\\site-packages\\numpy\\lib\\histograms.py:825: RuntimeWarning: invalid value encountered in less_equal\n",
      "  keep &= (tmp_a <= last_edge)\n"
     ]
    },
    {
     "data": {
      "image/png": "[encoded data removed]",
      "text/plain": [
       "<Figure size 432x216 with 1 Axes>"
      ]
     },
     "metadata": {
      "needs_background": "light"
     },
     "output_type": "display_data"
    },
    {
     "data": {
      "image/png": "[encoded data removed]",
      "text/plain": [
       "<Figure size 432x216 with 1 Axes>"
      ]
     },
     "metadata": {
      "needs_background": "light"
     },
     "output_type": "display_data"
    }
   ],
   "source": [
    "%matplotlib inline\n",
    "import matplotlib.pyplot as plt\n",
    "\n",
    "plt.figure(figsize=(6,3))\n",
    "plt.hist(df.avg_rating_of_driver, 20)\n",
    "plt.title('Count of Avg Score Given by rider')\n",
    "plt.xlabel('Rating')\n",
    "plt.ylabel('Frequency')\n",
    "plt.show()\n",
    "\n",
    "plt.figure(figsize=(6,3))\n",
    "plt.hist(df.avg_rating_by_driver, 20)\n",
    "plt.title('Count of Avg Score Recieved by rider')\n",
    "plt.xlabel('Rating')\n",
    "plt.ylabel('Frequency')\n",
    "plt.show()"
   ]
  },
  {
   "cell_type": "markdown",
   "metadata": {},
   "source": [
    "After plotting these historgram, it is clear that the distribution of ratings is strongly skewed left, and thus it would be better to impute the median value, rather than the mean value."
   ]
  },
  {
   "cell_type": "code",
   "execution_count": 18,
   "metadata": {},
   "outputs": [
    {
     "name": "stdout",
     "output_type": "stream",
     "text": [
      "Imputed values: \n",
      "avg_rating_of_driver:  4.9\n",
      "avg_rating_by_driver:  5.0\n"
     ]
    }
   ],
   "source": [
    "#Print Medians used for imputation\n",
    "print('Imputed values: ')\n",
    "print('avg_rating_of_driver: ', df.avg_rating_of_driver.median())\n",
    "print('avg_rating_by_driver: ', df.avg_rating_by_driver.median())\n",
    "\n",
    "#Impute values\n",
    "df['avg_rating_of_driver'] = df.avg_rating_of_driver.fillna(df.avg_rating_of_driver.median())\n",
    "df['avg_rating_by_driver'] = df.avg_rating_by_driver.fillna(df.avg_rating_by_driver.median())"
   ]
  },
  {
   "cell_type": "code",
   "execution_count": 19,
   "metadata": {},
   "outputs": [
    {
     "name": "stdout",
     "output_type": "stream",
     "text": [
      "<class 'pandas.core.frame.DataFrame'>\n",
      "RangeIndex: 50000 entries, 0 to 49999\n",
      "Data columns (total 13 columns):\n",
      "city                      50000 non-null category\n",
      "trips_in_first_30_days    50000 non-null int64\n",
      "signup_date               50000 non-null datetime64[ns]\n",
      "avg_rating_of_driver      50000 non-null float64\n",
      "avg_surge                 50000 non-null float64\n",
      "last_trip_date            50000 non-null datetime64[ns]\n",
      "phone                     50000 non-null category\n",
      "surge_pct                 50000 non-null float64\n",
      "ultimate_black_user       50000 non-null float64\n",
      "weekday_pct               50000 non-null float64\n",
      "avg_dist                  50000 non-null float64\n",
      "avg_rating_by_driver      50000 non-null float64\n",
      "retained                  50000 non-null float64\n",
      "dtypes: category(2), datetime64[ns](2), float64(8), int64(1)\n",
      "memory usage: 4.3 MB\n"
     ]
    }
   ],
   "source": [
    "df.info()"
   ]
  },
  {
   "cell_type": "markdown",
   "metadata": {},
   "source": [
    "Above, it is comfirmed that Null Values have been taken care of"
   ]
  },
  {
   "cell_type": "code",
   "execution_count": 41,
   "metadata": {},
   "outputs": [
    {
     "data": {
      "image/png": "[encoded data removed]",
      "text/plain": [
       "<Figure size 432x216 with 1 Axes>"
      ]
     },
     "metadata": {
      "needs_background": "light"
     },
     "output_type": "display_data"
    },
    {
     "data": {
      "image/png": "[encoded data removed]",
      "text/plain": [
       "<Figure size 432x216 with 1 Axes>"
      ]
     },
     "metadata": {
      "needs_background": "light"
     },
     "output_type": "display_data"
    }
   ],
   "source": [
    "plt.figure(figsize=(6,3))\n",
    "plt.hist(df.trips_in_first_30_days, 20)\n",
    "plt.title('Number of Rides after first 30 days')\n",
    "plt.xlabel('Number of Rides')\n",
    "plt.ylabel('Frequency')\n",
    "plt.show()\n",
    "\n",
    "plt.figure(figsize=(6,3))\n",
    "plt.hist(df.trips_in_first_30_days, 20, log=True)\n",
    "plt.title('Number of Rides after first 30 days (log scaled)')\n",
    "plt.xlabel('Number of Rides')\n",
    "plt.ylabel('Frequency')\n",
    "plt.show()"
   ]
  },
  {
   "cell_type": "markdown",
   "metadata": {},
   "source": [
    "Looking at the distribution of Number of Rides Taken During First 30 Days, it appears that most users use it less than 20, but a decent amount will still use it between the 20 to 50 times range. Then there are a few outliers of users using it more than 50 times, including someone who rode about 120 times in one month."
   ]
  },
  {
   "cell_type": "code",
   "execution_count": 50,
   "metadata": {},
   "outputs": [
    {
     "data": {
      "text/plain": [
       "<BarContainer object of 7 artists>"
      ]
     },
     "execution_count": 50,
     "metadata": {},
     "output_type": "execute_result"
    },
    {
     "data": {
      "image/png": "[encoded data removed]",
      "text/plain": [
       "<Figure size 720x360 with 1 Axes>"
      ]
     },
     "metadata": {
      "needs_background": "light"
     },
     "output_type": "display_data"
    }
   ],
   "source": [
    "def TimeInvAnalysisAndPlot(df,col):\n",
    "\n",
    "df_time_scale = pd.DataFrame({'signup_date':df.signup_date, 'counts': 1})\n",
    "df_time_scale = df_time_scale.set_index(['signup_date'])\n",
    "\n",
    "#creates counts of login withing 15 minutes interval\n",
    "df_counts_15inv = df_time_scale.resample('15T').sum()\n",
    "\n",
    "df_counts_15inv['year'] = df_counts_15inv.index.year\n",
    "df_counts_15inv['month'] = df_counts_15inv.index.month\n",
    "df_counts_15inv['day'] = df_counts_15inv.index.day\n",
    "df_counts_15inv['hour'] = df_counts_15inv.index.hour\n",
    "df_counts_15inv['minute'] = df_counts_15inv.index.minute\n",
    "df_counts_15inv['weekday'] = df_counts_15inv.index.weekday\n",
    "df_counts_15inv['time'] = df_counts_15inv.index.time\n",
    "\n",
    "#Create Aggregate As Described by Graph Printed\n",
    "x = df_counts_15inv.groupby('weekday').counts.sum().index\n",
    "y = df_counts_15inv.groupby('weekday').counts.sum().values\n",
    "\n",
    "#Choose Size\n",
    "plt.figure(figsize=(10,5))\n",
    "plt.title('Average Logins/15-Minutes Throughout Week (by Weekday)')\n",
    "plt.ylabel('Average Logins per 15 Minutes')\n",
    "plt.xlabel('Day of the week')\n",
    "#add weekday labels to x axis\n",
    "plt.xticks(x,labels=['Monday','Tuesday','Wednesday','Thursday','Friday','Saturday','Sunday'])\n",
    "plt.bar(x, y)"
   ]
  },
  {
   "cell_type": "code",
   "execution_count": 8,
   "metadata": {},
   "outputs": [
    {
     "data": {
      "text/plain": [
       "1.0    34610\n",
       "0.0    15390\n",
       "Name: retained, dtype: int64"
      ]
     },
     "execution_count": 8,
     "metadata": {},
     "output_type": "execute_result"
    }
   ],
   "source": [
    "df.retained.value_counts()"
   ]
  }
 ],
 "metadata": {
  "kernelspec": {
   "display_name": "Python 3",
   "language": "python",
   "name": "python3"
  },
  "language_info": {
   "codemirror_mode": {
    "name": "ipython",
    "version": 3
   },
   "file_extension": ".py",
   "mimetype": "text/x-python",
   "name": "python",
   "nbconvert_exporter": "python",
   "pygments_lexer": "ipython3",
   "version": "3.7.4"
  }
 },
 "nbformat": 4,
 "nbformat_minor": 2
}
